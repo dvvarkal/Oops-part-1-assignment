{
 "cells": [
  {
   "cell_type": "code",
   "execution_count": null,
   "id": "a384ca8f-d1a7-4011-b1e1-854f8e32d633",
   "metadata": {},
   "outputs": [],
   "source": [
    "ANS.(1)"
   ]
  },
  {
   "cell_type": "code",
   "execution_count": null,
   "id": "6f92c74f-92f2-4888-85cb-13db1d8005e6",
   "metadata": {},
   "outputs": [],
   "source": [
    "Class: Classfication of real world entity like blue print\n",
    "Object:Objects have states and behaviors, also called real world entity like variable or instance\n",
    "Example:A car has states-color,name,model number,company name."
   ]
  },
  {
   "cell_type": "code",
   "execution_count": null,
   "id": "ebb6a3ad-e6cc-4a26-9331-d0ecc3ca207d",
   "metadata": {},
   "outputs": [],
   "source": [
    "ANS.(2)"
   ]
  },
  {
   "cell_type": "code",
   "execution_count": null,
   "id": "e3df46e1-2497-46f0-ac61-86d49daef0ba",
   "metadata": {},
   "outputs": [],
   "source": [
    "Inheritance, Polymorphism, Encapsulation and Abstraction"
   ]
  },
  {
   "cell_type": "code",
   "execution_count": null,
   "id": "8baf017a-bd0e-4b57-9b50-97f03d4a090a",
   "metadata": {},
   "outputs": [],
   "source": [
    "ANS.(3)"
   ]
  },
  {
   "cell_type": "code",
   "execution_count": null,
   "id": "66f614b8-83a6-4970-bf5f-fa1eef8e32c7",
   "metadata": {},
   "outputs": [],
   "source": [
    "To pass data, act like constructor\n",
    "Example:Person details like phone number,email id,age."
   ]
  },
  {
   "cell_type": "code",
   "execution_count": null,
   "id": "6460a267-1357-4d17-adba-781f29819a8a",
   "metadata": {},
   "outputs": [],
   "source": [
    "ANS.(4)"
   ]
  },
  {
   "cell_type": "code",
   "execution_count": null,
   "id": "7de099c8-5710-4615-8977-a101e20c5bc4",
   "metadata": {},
   "outputs": [],
   "source": [
    "Self  is used as a pointer and reference point to represent the instance of the class."
   ]
  },
  {
   "cell_type": "code",
   "execution_count": null,
   "id": "a12fc8ff-28fb-4850-9435-60c0a95f470d",
   "metadata": {},
   "outputs": [],
   "source": [
    "ANS.(5)"
   ]
  },
  {
   "cell_type": "code",
   "execution_count": null,
   "id": "78177f91-6caf-4a00-bb65-1310a0bc2d3a",
   "metadata": {},
   "outputs": [],
   "source": [
    "Inheritance is a mechanism in which one class acquires the property of another class.\n",
    "EXAMPLE:A child inherits the traits of his/her parents."
   ]
  }
 ],
 "metadata": {
  "kernelspec": {
   "display_name": "Python 3 (ipykernel)",
   "language": "python",
   "name": "python3"
  },
  "language_info": {
   "codemirror_mode": {
    "name": "ipython",
    "version": 3
   },
   "file_extension": ".py",
   "mimetype": "text/x-python",
   "name": "python",
   "nbconvert_exporter": "python",
   "pygments_lexer": "ipython3",
   "version": "3.10.8"
  }
 },
 "nbformat": 4,
 "nbformat_minor": 5
}
